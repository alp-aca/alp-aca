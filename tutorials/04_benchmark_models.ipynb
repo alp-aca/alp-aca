{
 "cells": [
  {
   "cell_type": "code",
   "execution_count": 1,
   "metadata": {},
   "outputs": [],
   "source": [
    "from alpaca.uvmodels import model_library\n",
    "import sympy as sp\n",
    "from IPython import display # pretty printing in jupyter. Does not work on regular python"
   ]
  },
  {
   "cell_type": "markdown",
   "metadata": {},
   "source": [
    "## Matching of UV models to ALP Lagrangian"
   ]
  },
  {
   "cell_type": "code",
   "execution_count": 11,
   "metadata": {},
   "outputs": [],
   "source": [
    "charge = sp.symbols(r'\\mathcal{X}')\n",
    "charge_u = sp.symbols(r'\\mathcal{X}_u')\n",
    "charge_d = sp.symbols(r'\\mathcal{X}_d')"
   ]
  },
  {
   "cell_type": "markdown",
   "metadata": {},
   "source": [
    "### KSVZ-like models"
   ]
  },
  {
   "cell_type": "markdown",
   "metadata": {},
   "source": [
    "Models from [1610.07593](https://arxiv.org/abs/1610.07593) to check we obtain the same results"
   ]
  },
  {
   "cell_type": "code",
   "execution_count": 16,
   "metadata": {},
   "outputs": [],
   "source": [
    "R1 = model_library.fermion('3','1',sp.Rational(-1,3),charge)\n",
    "R2 = model_library.fermion('3','1',sp.Rational(2,3),charge)\n",
    "R3 = model_library.fermion('3','2',sp.Rational(1,6),charge)\n",
    "R4 = model_library.fermion('3','2',sp.Rational(-5,6),charge)\n",
    "R5 = model_library.fermion('3','2',sp.Rational(7,6),charge)\n",
    "R6 = model_library.fermion('3','3',sp.Rational(-1,3),charge)\n",
    "R7 = model_library.fermion('3','3',sp.Rational(2,3),charge)\n",
    "R8 = model_library.fermion('3','3',sp.Rational(-4,3),charge)\n",
    "R9 = model_library.fermion('6_bar','1',sp.Rational(-1,3),charge)\n",
    "R10 = model_library.fermion('6_bar','1',sp.Rational(2,3),charge)\n",
    "R11 = model_library.fermion('6_bar','2',sp.Rational(1,6),charge)\n",
    "R12 = model_library.fermion('8','1',-1,charge)\n",
    "R13 = model_library.fermion('8','2',sp.Rational(-1,2),charge)\n",
    "R14 = model_library.fermion('15','1',sp.Rational(-1,3),charge)\n",
    "R15 = model_library.fermion('15','1',sp.Rational(2,3),charge)\n",
    "\n",
    "list_of_fermions=[R1,R2,R3,R4,R5,R6,R7, R8, R9, R10, R11, R12, R13, R14, R15]"
   ]
  },
  {
   "cell_type": "code",
   "execution_count": 17,
   "metadata": {},
   "outputs": [
    {
     "data": {
      "text/latex": [
       "$\\displaystyle R1\n",
       "\\\\\\begin{align}\n",
      "c_G &= \\frac{\\mathcal{X}}{2} \\nonumber \\\\\n",
       "c_B &= \\frac{\\mathcal{X}}{3} \\nonumber \\\\\n",
       "c_W &= 0 \\nonumber \\\\\n",
       "\\end{align}\n",
       "\\\\\n",
       "E/N = 2/3\n",
       "\\\\\n",
       "~\\\\\n",
       "R2\n",
       "\\\\\\begin{align}\n",
      "c_G &= \\frac{\\mathcal{X}}{2} \\nonumber \\\\\n",
       "c_B &= \\frac{4 \\mathcal{X}}{3} \\nonumber \\\\\n",
       "c_W &= 0 \\nonumber \\\\\n",
       "\\end{align}\n",
       "\\\\\n",
       "E/N = 8/3\n",
       "\\\\\n",
       "~\\\\\n",
       "R3\n",
       "\\\\\\begin{align}\n",
      "c_G &= \\mathcal{X} \\nonumber \\\\\n",
       "c_B &= \\frac{\\mathcal{X}}{6} \\nonumber \\\\\n",
       "c_W &= \\frac{3 \\mathcal{X}}{2} \\nonumber \\\\\n",
       "\\end{align}\n",
       "\\\\\n",
       "E/N = 5/3\n",
       "\\\\\n",
       "~\\\\\n",
       "R4\n",
       "\\\\\\begin{align}\n",
      "c_G &= \\mathcal{X} \\nonumber \\\\\n",
       "c_B &= \\frac{25 \\mathcal{X}}{6} \\nonumber \\\\\n",
       "c_W &= \\frac{3 \\mathcal{X}}{2} \\nonumber \\\\\n",
       "\\end{align}\n",
       "\\\\\n",
       "E/N = 17/3\n",
       "\\\\\n",
       "~\\\\\n",
       "R5\n",
       "\\\\\\begin{align}\n",
      "c_G &= \\mathcal{X} \\nonumber \\\\\n",
       "c_B &= \\frac{49 \\mathcal{X}}{6} \\nonumber \\\\\n",
       "c_W &= \\frac{3 \\mathcal{X}}{2} \\nonumber \\\\\n",
       "\\end{align}\n",
       "\\\\\n",
       "E/N = 29/3\n",
       "\\\\\n",
       "~\\\\\n",
       "R6\n",
       "\\\\\\begin{align}\n",
      "c_G &= \\frac{3 \\mathcal{X}}{2} \\nonumber \\\\\n",
       "c_B &= \\mathcal{X} \\nonumber \\\\\n",
       "c_W &= 6 \\mathcal{X} \\nonumber \\\\\n",
       "\\end{align}\n",
       "\\\\\n",
       "E/N = 14/3\n",
       "\\\\\n",
       "~\\\\\n",
       "R7\n",
       "\\\\\\begin{align}\n",
      "c_G &= \\frac{3 \\mathcal{X}}{2} \\nonumber \\\\\n",
       "c_B &= 4 \\mathcal{X} \\nonumber \\\\\n",
       "c_W &= 6 \\mathcal{X} \\nonumber \\\\\n",
       "\\end{align}\n",
       "\\\\\n",
       "E/N = 20/3\n",
       "\\\\\n",
       "~\\\\\n",
       "R8\n",
       "\\\\\\begin{align}\n",
      "c_G &= \\frac{3 \\mathcal{X}}{2} \\nonumber \\\\\n",
       "c_B &= 16 \\mathcal{X} \\nonumber \\\\\n",
       "c_W &= 6 \\mathcal{X} \\nonumber \\\\\n",
       "\\end{align}\n",
       "\\\\\n",
       "E/N = 44/3\n",
       "\\\\\n",
       "~\\\\\n",
       "R9\n",
       "\\\\\\begin{align}\n",
      "c_G &= \\frac{5 \\mathcal{X}}{2} \\nonumber \\\\\n",
       "c_B &= \\frac{2 \\mathcal{X}}{3} \\nonumber \\\\\n",
       "c_W &= 0 \\nonumber \\\\\n",
       "\\end{align}\n",
       "\\\\\n",
       "E/N = 4/15\n",
       "\\\\\n",
       "~\\\\\n",
       "R10\n",
       "\\\\\\begin{align}\n",
      "c_G &= \\frac{5 \\mathcal{X}}{2} \\nonumber \\\\\n",
       "c_B &= \\frac{8 \\mathcal{X}}{3} \\nonumber \\\\\n",
       "c_W &= 0 \\nonumber \\\\\n",
       "\\end{align}\n",
       "\\\\\n",
       "E/N = 16/15\n",
       "\\\\\n",
       "~\\\\\n",
       "R11\n",
       "\\\\\\begin{align}\n",
      "c_G &= 5 \\mathcal{X} \\nonumber \\\\\n",
       "c_B &= \\frac{\\mathcal{X}}{3} \\nonumber \\\\\n",
       "c_W &= 3 \\mathcal{X} \\nonumber \\\\\n",
       "\\end{align}\n",
       "\\\\\n",
       "E/N = 2/3\n",
       "\\\\\n",
       "~\\\\\n",
       "R12\n",
       "\\\\\\begin{align}\n",
      "c_G &= 3 \\mathcal{X} \\nonumber \\\\\n",
       "c_B &= 8 \\mathcal{X} \\nonumber \\\\\n",
       "c_W &= 0 \\nonumber \\\\\n",
       "\\end{align}\n",
       "\\\\\n",
       "E/N = 8/3\n",
       "\\\\\n",
       "~\\\\\n",
       "R13\n",
       "\\\\\\begin{align}\n",
      "c_G &= 6 \\mathcal{X} \\nonumber \\\\\n",
       "c_B &= 4 \\mathcal{X} \\nonumber \\\\\n",
       "c_W &= 4 \\mathcal{X} \\nonumber \\\\\n",
       "\\end{align}\n",
       "\\\\\n",
       "E/N = 4/3\n",
       "\\\\\n",
       "~\\\\\n",
       "R14\n",
       "\\\\\\begin{align}\n",
      "c_G &= 10 \\mathcal{X} \\nonumber \\\\\n",
       "c_B &= \\frac{5 \\mathcal{X}}{3} \\nonumber \\\\\n",
       "c_W &= 0 \\nonumber \\\\\n",
       "\\end{align}\n",
       "\\\\\n",
       "E/N = 1/6\n",
       "\\\\\n",
       "~\\\\\n",
       "R15\n",
       "\\\\\\begin{align}\n",
      "c_G &= 10 \\mathcal{X} \\nonumber \\\\\n",
       "c_B &= \\frac{20 \\mathcal{X}}{3} \\nonumber \\\\\n",
       "c_W &= 0 \\nonumber \\\\\n",
       "\\end{align}\n",
       "\\\\\n",
       "E/N = 2/3\n",
       "\\\\\n",
       "~\\\\\n",
       "$"
      ],
      "text/plain": [
       "<IPython.core.display.Math object>"
      ]
     },
     "execution_count": 17,
     "metadata": {},
     "output_type": "execute_result"
    }
   ],
   "source": [
    "list_of_KSVZ_models: list[model_library.KSVZ_model] = []\n",
    "for i, fermion in enumerate(list_of_fermions):\n",
    "    name = 'R' + str(i+1)\n",
    "    list_of_KSVZ_models.append(model_library.KSVZ_model(name, [fermion]))\n",
    "text = ''\n",
    "for models in list_of_KSVZ_models:\n",
    "   text += models.model_name + '\\n' + r'\\\\' #+ '\\n~' + r'\\\\' + '\\n'\n",
    "   text += models.couplings_latex() + '\\n' + r'\\\\' + '\\n'\n",
    "   text += r'E/N = ' + str(models.E_over_N()) + '\\n' + r'\\\\' + '\\n~' + r'\\\\' + '\\n'\n",
    "display.Math(text)"
   ]
  },
  {
   "cell_type": "markdown",
   "metadata": {},
   "source": [
    "### DFSZ-like models"
   ]
  },
  {
   "cell_type": "markdown",
   "metadata": {},
   "source": [
    "Models from [1705.05370](https://arxiv.org/abs/1705.05370) to check we obtain the same results"
   ]
  },
  {
   "cell_type": "code",
   "execution_count": 18,
   "metadata": {},
   "outputs": [],
   "source": [
    "DFSZ1 = model_library.model('DFSZ-I', {'eR': charge, 'uR': charge, 'dR': charge})\n",
    "DFSZ2 = model_library.model('DFSZ-II', {'eR': -charge, 'uR': charge, 'dR': charge})\n",
    "DFSZ3a = model_library.model('DFSZ-IIIa', {'eR': -(2*charge_u+charge_d), 'uR': charge_u, 'dR': charge_d})\n",
    "DFSZ3b = model_library.model('DFSZ-IIIb', {'eR': charge_d,  'uR': charge_u, 'dR': charge_d})\n",
    "DFSZ3c = model_library.model('DFSZ-IIIc', {'eR': charge_u+2*charge_d, 'uR': charge_u, 'dR': charge_d})\n",
    "DFSZ3d = model_library.model('DFSZ-IIId', {'eR': -charge_u, 'uR': charge_u, 'dR': charge_d})\n",
    "\n",
    "list_of_DFSZ_models=[DFSZ1, DFSZ2, DFSZ3a, DFSZ3b, DFSZ3c, DFSZ3d]"
   ]
  },
  {
   "cell_type": "code",
   "execution_count": 19,
   "metadata": {},
   "outputs": [
    {
     "data": {
      "text/latex": [
       "$\\displaystyle DFSZ-I\n",
       "\\\\\\begin{align}\n",
       "c_{q_L} &= 0 \\nonumber \\\\\n",
       "c_{u_R} &= - \\mathcal{X} \\nonumber \\\\\n",
       "c_{d_R} &= - \\mathcal{X} \\nonumber \\\\\n",
       "c_{\\ell_L} &= 0 \\nonumber \\\\\n",
       "c_{e_R} &= - \\mathcal{X} \\nonumber \\\\\n",
      "c_G &= - 3 \\mathcal{X} \\nonumber \\\\\n",
       "c_W &= 0 \\nonumber \\\\\n",
       "c_B &= - 8 \\mathcal{X} \\nonumber \\\\\n",
       "\\end{align}\n",
       "\\\\\n",
       "E/N = 8/3\n",
       "\\\\\n",
       "~\\\\\n",
       "DFSZ-II\n",
       "\\\\\\begin{align}\n",
       "c_{q_L} &= 0 \\nonumber \\\\\n",
       "c_{u_R} &= - \\mathcal{X} \\nonumber \\\\\n",
       "c_{d_R} &= - \\mathcal{X} \\nonumber \\\\\n",
       "c_{\\ell_L} &= 0 \\nonumber \\\\\n",
       "c_{e_R} &= \\mathcal{X} \\nonumber \\\\\n",
      "c_G &= - 3 \\mathcal{X} \\nonumber \\\\\n",
       "c_W &= 0 \\nonumber \\\\\n",
       "c_B &= - 2 \\mathcal{X} \\nonumber \\\\\n",
       "\\end{align}\n",
       "\\\\\n",
       "E/N = 2/3\n",
       "\\\\\n",
       "~\\\\\n",
       "DFSZ-IIIa\n",
       "\\\\\\begin{align}\n",
       "c_{q_L} &= 0 \\nonumber \\\\\n",
       "c_{u_R} &= - \\mathcal{X}_u \\nonumber \\\\\n",
       "c_{d_R} &= - \\mathcal{X}_d \\nonumber \\\\\n",
       "c_{\\ell_L} &= 0 \\nonumber \\\\\n",
       "c_{e_R} &= \\mathcal{X}_d + 2 \\mathcal{X}_u \\nonumber \\\\\n",
      "c_G &= - \\frac{3 \\mathcal{X}_d}{2} - \\frac{3 \\mathcal{X}_u}{2} \\nonumber \\\\\n",
       "c_W &= 0 \\nonumber \\\\\n",
       "c_B &= 2 \\mathcal{X}_d + 2 \\mathcal{X}_u \\nonumber \\\\\n",
       "\\end{align}\n",
       "\\\\\n",
       "E/N = -4/3\n",
       "\\\\\n",
       "~\\\\\n",
       "DFSZ-IIIb\n",
       "\\\\\\begin{align}\n",
       "c_{q_L} &= 0 \\nonumber \\\\\n",
       "c_{u_R} &= - \\mathcal{X}_u \\nonumber \\\\\n",
       "c_{d_R} &= - \\mathcal{X}_d \\nonumber \\\\\n",
       "c_{\\ell_L} &= 0 \\nonumber \\\\\n",
       "c_{e_R} &= - \\mathcal{X}_d \\nonumber \\\\\n",
      "c_G &= - \\frac{3 \\mathcal{X}_d}{2} - \\frac{3 \\mathcal{X}_u}{2} \\nonumber \\\\\n",
       "c_W &= 0 \\nonumber \\\\\n",
       "c_B &= - 4 \\mathcal{X}_d - 4 \\mathcal{X}_u \\nonumber \\\\\n",
       "\\end{align}\n",
       "\\\\\n",
       "E/N = 8/3\n",
       "\\\\\n",
       "~\\\\\n",
       "DFSZ-IIIc\n",
       "\\\\\\begin{align}\n",
       "c_{q_L} &= 0 \\nonumber \\\\\n",
       "c_{u_R} &= - \\mathcal{X}_u \\nonumber \\\\\n",
       "c_{d_R} &= - \\mathcal{X}_d \\nonumber \\\\\n",
       "c_{\\ell_L} &= 0 \\nonumber \\\\\n",
       "c_{e_R} &= - 2 \\mathcal{X}_d - \\mathcal{X}_u \\nonumber \\\\\n",
      "c_G &= - \\frac{3 \\mathcal{X}_d}{2} - \\frac{3 \\mathcal{X}_u}{2} \\nonumber \\\\\n",
       "c_W &= 0 \\nonumber \\\\\n",
       "c_B &= - 7 \\mathcal{X}_d - 7 \\mathcal{X}_u \\nonumber \\\\\n",
       "\\end{align}\n",
       "\\\\\n",
       "E/N = 14/3\n",
       "\\\\\n",
       "~\\\\\n",
       "DFSZ-IIId\n",
       "\\\\\\begin{align}\n",
       "c_{q_L} &= 0 \\nonumber \\\\\n",
       "c_{u_R} &= - \\mathcal{X}_u \\nonumber \\\\\n",
       "c_{d_R} &= - \\mathcal{X}_d \\nonumber \\\\\n",
       "c_{\\ell_L} &= 0 \\nonumber \\\\\n",
       "c_{e_R} &= \\mathcal{X}_u \\nonumber \\\\\n",
      "c_G &= - \\frac{3 \\mathcal{X}_d}{2} - \\frac{3 \\mathcal{X}_u}{2} \\nonumber \\\\\n",
       "c_W &= 0 \\nonumber \\\\\n",
       "c_B &= - \\mathcal{X}_d - \\mathcal{X}_u \\nonumber \\\\\n",
       "\\end{align}\n",
       "\\\\\n",
       "E/N = 2/3\n",
       "\\\\\n",
       "~\\\\\n",
       "$"
      ],
      "text/plain": [
       "<IPython.core.display.Math object>"
      ]
     },
     "execution_count": 19,
     "metadata": {},
     "output_type": "execute_result"
    }
   ],
   "source": [
    "text = ''\n",
    "for models in list_of_DFSZ_models:\n",
    "   text += models.model_name + '\\n' + r'\\\\' #+ '\\n~' + r'\\\\' + '\\n'\n",
    "   text += models.couplings_latex() + '\\n' + r'\\\\' + '\\n'\n",
    "   text += r'E/N = ' + str(models.E_over_N()) + '\\n' + r'\\\\' + '\\n~' + r'\\\\' + '\\n'\n",
    "display.Math(text)"
   ]
  },
  {
   "cell_type": "markdown",
   "metadata": {},
   "source": [
    "## Fit to models"
   ]
  },
  {
   "cell_type": "markdown",
   "metadata": {},
   "source": [
    "Fit of quarkonia decays to QED-DFSZ model"
   ]
  },
  {
   "cell_type": "code",
   "execution_count": 22,
   "metadata": {},
   "outputs": [],
   "source": [
    "from alpaca import ALPcouplings, branching_ratio\n",
    "from alpaca.experimental_data.measurements_exp import belle_Y1S_mumu\n",
    "from alpaca.constants import metap, mmu, mtau, mc\n",
    "import numpy as np\n",
    "import matplotlib.pyplot as plt\n",
    "plt.rcParams.update({'text.usetex':True})"
   ]
  },
  {
   "cell_type": "code",
   "execution_count": 3,
   "metadata": {},
   "outputs": [],
   "source": [
    "@np.vectorize\n",
    "def chi2(ma, couplings, fa):\n",
    "    exp = belle_Y1S_mumu(ma)\n",
    "    c2 = 0\n",
    "    if exp[2] != 0:\n",
    "        br = branching_ratio('Y(1S) -> gamma mu mu', ma, couplings, fa, integrator='no_rge')\n",
    "        c2 += (br-exp[0])**2/exp[2]**2\n",
    "    return c2"
   ]
  },
  {
   "cell_type": "code",
   "execution_count": 13,
   "metadata": {},
   "outputs": [],
   "source": [
    "ma = np.logspace(-1, 1, 80)\n",
    "fa = np.logspace(2, 5, 50)\n",
    "x_ma, y_fa = np.meshgrid(ma, fa)\n",
    "x_ma, y_fainv = np.meshgrid(ma, 1/fa)"
   ]
  },
  {
   "cell_type": "code",
   "execution_count": 6,
   "metadata": {},
   "outputs": [
    {
     "name": "stderr",
     "output_type": "stream",
     "text": [
      "/home/jorge/.cache/pypoetry/virtualenvs/alpaca-dpejbsCX-py3.10/lib64/python3.10/site-packages/scipy/integrate/_ivp/base.py:23: ComplexWarning: Casting complex values to real discards the imaginary part\n",
      "  return np.asarray(fun(t, y), dtype=dtype)\n",
      "/home/jorge/Documents/alpaca/alp-aca/alpaca/rge/classes.py:235: ComplexWarning: Casting complex values to real discards the imaginary part\n",
    "  vals |= {'cG': float(array[53]), \"cgamma\": float(array[54])}\n"
     ]
    }
   ],
   "source": [
    "get_couplings = np.vectorize(lambda f: model_library.QED_DFSZ.get_couplings({model_library.beta: np.pi/4}, f).match_run(10, 'VA_below', matching_scale=80))\n",
    "\n",
    "couplings = get_couplings(fa)"
   ]
  },
  {
   "cell_type": "code",
   "execution_count": 14,
   "metadata": {},
   "outputs": [],
   "source": [
    "x_ma, y_couplings = np.meshgrid(ma, couplings)"
   ]
  },
  {
   "cell_type": "code",
   "execution_count": 15,
   "metadata": {},
   "outputs": [
    {
     "name": "stderr",
     "output_type": "stream",
     "text": [
      "/home/jorge/.cache/pypoetry/virtualenvs/alpaca-dpejbsCX-py3.10/lib64/python3.10/site-packages/numpy/lib/function_base.py:2458: ComplexWarning: Casting complex values to real discards the imaginary part\n",
      "  res = asanyarray(outputs, dtype=otypes[0])\n"
     ]
    }
   ],
   "source": [
    "mesh_chi2 = chi2(x_ma, y_couplings, y_fa)"
   ]
  },
  {
   "cell_type": "code",
   "execution_count": 51,
   "metadata": {},
   "outputs": [
    {
     "data": {
      "text/plain": [
       "Text(0.5, 1.0, 'QED-DFSZ $\\\\tan\\\\beta=1$:\\t\\t$\\\\Upsilon(1S)\\\\to \\\\gamma\\\\mu^+\\\\mu^-$, Belle')"
      ]
     },
     "execution_count": 51,
     "metadata": {},
     "output_type": "execute_result"
    },
    {
     "data": {
      "image/png": "[encoded data removed]",
      "text/plain": [
       "<Figure size 960x720 with 2 Axes>"
      ]
     },
     "metadata": {},
     "output_type": "display_data"
    }
   ],
   "source": [
    "plt.figure(dpi=150)\n",
    "plt.contourf(x_ma, y_fainv, mesh_chi2, levels=np.linspace(0, 2, 50), cmap='viridis')\n",
    "ax = plt.gca()\n",
    "ax.set_xscale('log')\n",
    "ax.set_yscale('log')\n",
    "cbar = plt.colorbar()\n",
    "cbar.set_label(r'$\\chi^2$')\n",
    "cbar.set_ticks(np.linspace(0, 2, 5))\n",
    "plt.xlabel(r'$m_a$ [GeV]')\n",
    "plt.ylabel(r'$f_a^{-1}$ [GeV$^{-1}$]')\n",
    "plt.axvline(metap, c='w', lw=0.7, ls=':', alpha=0.6)\n",
    "plt.annotate(r\"$m_{\\eta'}$\", (1, 2e-5), color='w', alpha=0.6)\n",
    "plt.axvline(2*mc, c='w', lw=0.7, ls=':', alpha=0.6)\n",
    "plt.annotate(r\"$2m_c$\", (2.7, 2e-5), color='w', alpha=0.6)\n",
    "plt.title(r'QED-DFSZ $\\tan\\beta=1$:' + '\\t\\t' + r'$\\Upsilon(1S)\\to \\gamma\\mu^+\\mu^-$, Belle')"
   ]
  },
  {
   "cell_type": "code",
   "execution_count": null,
   "metadata": {},
   "outputs": [],
   "source": []
  }
 ],
 "metadata": {
  "kernelspec": {
   "display_name": "alpaca-dpejbsCX-py3.10",
   "language": "python",
   "name": "python3"
  },
  "language_info": {
   "codemirror_mode": {
    "name": "ipython",
    "version": 3
   },
   "file_extension": ".py",
   "mimetype": "text/x-python",
   "name": "python",
   "nbconvert_exporter": "python",
   "pygments_lexer": "ipython3",
   "version": "3.10.15"
  }
 },
 "nbformat": 4,
 "nbformat_minor": 2
}
