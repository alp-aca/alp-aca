{
 "cells": [
  {
   "cell_type": "code",
   "execution_count": 3,
   "metadata": {},
   "outputs": [
    {
     "ename": "AttributeError",
     "evalue": "module 'alpaca.citations.citations' has no attribute 'register_inspire'",
     "output_type": "error",
     "traceback": [
      "\u001b[0;31m---------------------------------------------------------------------------\u001b[0m",
      "\u001b[0;31mAttributeError\u001b[0m                            Traceback (most recent call last)",
      "Cell \u001b[0;32mIn[3], line 5\u001b[0m\n\u001b[1;32m      3\u001b[0m \u001b[38;5;28;01mfrom\u001b[39;00m \u001b[38;5;21;01malpaca\u001b[39;00m\u001b[38;5;21;01m.\u001b[39;00m\u001b[38;5;21;01mcommon\u001b[39;00m \u001b[38;5;28;01mimport\u001b[39;00m kallen\n\u001b[1;32m      4\u001b[0m \u001b[38;5;28;01mfrom\u001b[39;00m \u001b[38;5;21;01malpaca\u001b[39;00m\u001b[38;5;21;01m.\u001b[39;00m\u001b[38;5;21;01mexperimental_data\u001b[39;00m\u001b[38;5;21;01m.\u001b[39;00m\u001b[38;5;21;01mmeasurements_exp\u001b[39;00m \u001b[38;5;28;01mimport\u001b[39;00m babar_btoksnunu_lightmediator, belleII_bptoknunu_lightmediator\n\u001b[0;32m----> 5\u001b[0m \u001b[38;5;28;01mfrom\u001b[39;00m \u001b[38;5;21;01malpaca\u001b[39;00m\u001b[38;5;21;01m.\u001b[39;00m\u001b[38;5;21;01mmodels\u001b[39;00m\u001b[38;5;21;01m.\u001b[39;00m\u001b[38;5;21;01mmodel_library\u001b[39;00m \u001b[38;5;28;01mimport\u001b[39;00m QED_DFSZ, beta, u_DFSZ, d_DFSZ, Q_KSVZ\n\u001b[1;32m      6\u001b[0m \u001b[38;5;28;01mfrom\u001b[39;00m \u001b[38;5;21;01malpaca\u001b[39;00m\u001b[38;5;21;01m.\u001b[39;00m\u001b[38;5;21;01mstatistics\u001b[39;00m\u001b[38;5;21;01m.\u001b[39;00m\u001b[38;5;21;01mchisquared\u001b[39;00m \u001b[38;5;28;01mimport\u001b[39;00m chi2_obs, combine_chi2\n\u001b[1;32m      7\u001b[0m \u001b[38;5;28;01mfrom\u001b[39;00m \u001b[38;5;21;01malpaca\u001b[39;00m\u001b[38;5;21;01m.\u001b[39;00m\u001b[38;5;21;01mstatistics\u001b[39;00m\u001b[38;5;21;01m.\u001b[39;00m\u001b[38;5;21;01mfunctions\u001b[39;00m \u001b[38;5;28;01mimport\u001b[39;00m nsigmas\n",
      "File \u001b[0;32m/opt/anaconda3/lib/python3.12/site-packages/alpaca/models/model_library.py:252\u001b[0m\n\u001b[1;32m    250\u001b[0m d_DFSZ\u001b[38;5;241m=\u001b[39m model(\u001b[38;5;124m'\u001b[39m\u001b[38;5;124md-DFSZ\u001b[39m\u001b[38;5;124m'\u001b[39m, {\u001b[38;5;124m'\u001b[39m\u001b[38;5;124mlL\u001b[39m\u001b[38;5;124m'\u001b[39m: \u001b[38;5;241m2\u001b[39m\u001b[38;5;241m*\u001b[39msp\u001b[38;5;241m.\u001b[39mcos(beta)\u001b[38;5;241m*\u001b[39m\u001b[38;5;241m*\u001b[39m\u001b[38;5;241m2\u001b[39m, \u001b[38;5;124m'\u001b[39m\u001b[38;5;124mdR\u001b[39m\u001b[38;5;124m'\u001b[39m: \u001b[38;5;241m2\u001b[39m\u001b[38;5;241m*\u001b[39msp\u001b[38;5;241m.\u001b[39msin(beta)\u001b[38;5;241m*\u001b[39m\u001b[38;5;241m*\u001b[39m\u001b[38;5;241m2\u001b[39m})\n\u001b[1;32m    251\u001b[0m \u001b[38;5;124;03m\"\"\"d-DFSZ: A DFSZ-like model with couplings to leptons and down-type quarks.\"\"\"\u001b[39;00m\n\u001b[0;32m--> 252\u001b[0m Q_KSVZ\u001b[38;5;241m=\u001b[39mKSVZ_model(\u001b[38;5;124m'\u001b[39m\u001b[38;5;124mQ-KSVZ\u001b[39m\u001b[38;5;124m'\u001b[39m, [fermion(\u001b[38;5;241m3\u001b[39m,\u001b[38;5;241m1\u001b[39m,\u001b[38;5;241m0\u001b[39m,KSVZ_charge)])\n\u001b[1;32m    253\u001b[0m \u001b[38;5;124;03m\"\"\"Q-KSVZ: A KSVZ-like model with a heavy vector-like quark.\"\"\"\u001b[39;00m\n\u001b[1;32m    254\u001b[0m L_KSVZ\u001b[38;5;241m=\u001b[39mKSVZ_model(\u001b[38;5;124m'\u001b[39m\u001b[38;5;124mL-KSVZ\u001b[39m\u001b[38;5;124m'\u001b[39m, [fermion(\u001b[38;5;241m1\u001b[39m,\u001b[38;5;241m2\u001b[39m,\u001b[38;5;241m0\u001b[39m,KSVZ_charge)])\n",
      "File \u001b[0;32m/opt/anaconda3/lib/python3.12/site-packages/alpaca/models/model_library.py:213\u001b[0m, in \u001b[0;36mfermion.__init__\u001b[0;34m(self, SU3_rep, SU2_rep, Y_hyper, PQ)\u001b[0m\n\u001b[1;32m    211\u001b[0m     label_su3 \u001b[38;5;241m=\u001b[39m SU3_rep\n\u001b[1;32m    212\u001b[0m \u001b[38;5;28;01melse\u001b[39;00m:\n\u001b[0;32m--> 213\u001b[0m     label_su3 \u001b[38;5;241m=\u001b[39m su3\u001b[38;5;241m.\u001b[39mdynkinlabels_from_name(SU3_rep)\n\u001b[1;32m    214\u001b[0m \u001b[38;5;28mself\u001b[39m\u001b[38;5;241m.\u001b[39mcolor_dim \u001b[38;5;241m=\u001b[39m su3\u001b[38;5;241m.\u001b[39mdim_from_dynkinlabels(\u001b[38;5;241m*\u001b[39mlabel_su3)\n\u001b[1;32m    215\u001b[0m \u001b[38;5;28mself\u001b[39m\u001b[38;5;241m.\u001b[39mweak_isospin_dim \u001b[38;5;241m=\u001b[39m \u001b[38;5;241m2\u001b[39m\u001b[38;5;241m*\u001b[39mj \u001b[38;5;241m+\u001b[39m \u001b[38;5;241m1\u001b[39m\n",
      "File \u001b[0;32m/opt/anaconda3/lib/python3.12/site-packages/alpaca/models/su3.py:43\u001b[0m, in \u001b[0;36mdynkinlabels_from_name\u001b[0;34m(name)\u001b[0m\n\u001b[1;32m     41\u001b[0m     primes \u001b[38;5;241m=\u001b[39m \u001b[38;5;28msum\u001b[39m(\u001b[38;5;241m1\u001b[39m \u001b[38;5;28;01mfor\u001b[39;00m c \u001b[38;5;129;01min\u001b[39;00m name \u001b[38;5;28;01mif\u001b[39;00m c \u001b[38;5;241m==\u001b[39m \u001b[38;5;124m\"\u001b[39m\u001b[38;5;124m'\u001b[39m\u001b[38;5;124m\"\u001b[39m)\n\u001b[1;32m     42\u001b[0m     dim \u001b[38;5;241m=\u001b[39m \u001b[38;5;28mint\u001b[39m(name\u001b[38;5;241m.\u001b[39mreplace(\u001b[38;5;124m\"\u001b[39m\u001b[38;5;124m'\u001b[39m\u001b[38;5;124m\"\u001b[39m, \u001b[38;5;124m\"\u001b[39m\u001b[38;5;124m\"\u001b[39m))\n\u001b[0;32m---> 43\u001b[0m reprs \u001b[38;5;241m=\u001b[39m dynkinlabels_from_dim(dim)\n\u001b[1;32m     44\u001b[0m \u001b[38;5;28;01mif\u001b[39;00m \u001b[38;5;129;01mnot\u001b[39;00m reprs:\n\u001b[1;32m     45\u001b[0m     \u001b[38;5;28;01mraise\u001b[39;00m \u001b[38;5;167;01mKeyError\u001b[39;00m(\u001b[38;5;124mf\u001b[39m\u001b[38;5;124m\"\u001b[39m\u001b[38;5;124mThe representation \u001b[39m\u001b[38;5;132;01m{\u001b[39;00mname\u001b[38;5;132;01m}\u001b[39;00m\u001b[38;5;124m of the group SU(3) does not exist.\u001b[39m\u001b[38;5;124m\"\u001b[39m)\n",
      "File \u001b[0;32m/opt/anaconda3/lib/python3.12/site-packages/alpaca/models/su3.py:15\u001b[0m, in \u001b[0;36mdynkinlabels_from_dim\u001b[0;34m(dim)\u001b[0m\n\u001b[1;32m     13\u001b[0m \u001b[38;5;28;01mfor\u001b[39;00m l1 \u001b[38;5;129;01min\u001b[39;00m \u001b[38;5;28mrange\u001b[39m(maxlabel\u001b[38;5;241m+\u001b[39m\u001b[38;5;241m1\u001b[39m):\n\u001b[1;32m     14\u001b[0m     \u001b[38;5;28;01mfor\u001b[39;00m l2 \u001b[38;5;129;01min\u001b[39;00m \u001b[38;5;28mrange\u001b[39m(l1\u001b[38;5;241m+\u001b[39m\u001b[38;5;241m1\u001b[39m):\n\u001b[0;32m---> 15\u001b[0m         \u001b[38;5;28;01mif\u001b[39;00m dim_from_dynkinlabels(l1, l2) \u001b[38;5;241m==\u001b[39m dim:\n\u001b[1;32m     16\u001b[0m             labels\u001b[38;5;241m.\u001b[39madd((l1, l2))\n\u001b[1;32m     17\u001b[0m             labels\u001b[38;5;241m.\u001b[39madd((l2, l1))\n",
      "File \u001b[0;32m/opt/anaconda3/lib/python3.12/site-packages/alpaca/models/su3.py:6\u001b[0m, in \u001b[0;36mdim_from_dynkinlabels\u001b[0;34m(l1, l2)\u001b[0m\n\u001b[1;32m      4\u001b[0m \u001b[38;5;28;01mdef\u001b[39;00m \u001b[38;5;21mdim_from_dynkinlabels\u001b[39m(l1: \u001b[38;5;28mint\u001b[39m, l2: \u001b[38;5;28mint\u001b[39m) \u001b[38;5;241m-\u001b[39m\u001b[38;5;241m>\u001b[39m \u001b[38;5;28mint\u001b[39m:\n\u001b[1;32m      5\u001b[0m \u001b[38;5;250m    \u001b[39m\u001b[38;5;124;03m\"\"\"Returns the dimension of the SU(3) representation with the given Dynkin labels.\"\"\"\u001b[39;00m\n\u001b[0;32m----> 6\u001b[0m     citations\u001b[38;5;241m.\u001b[39mregister_inspire(\u001b[38;5;124m'\u001b[39m\u001b[38;5;124mSlansky:1981yr\u001b[39m\u001b[38;5;124m'\u001b[39m)\n\u001b[1;32m      7\u001b[0m     \u001b[38;5;28;01mreturn\u001b[39;00m \u001b[38;5;28mint\u001b[39m((l1\u001b[38;5;241m+\u001b[39m\u001b[38;5;241m1\u001b[39m)\u001b[38;5;241m*\u001b[39m(l2\u001b[38;5;241m+\u001b[39m\u001b[38;5;241m1\u001b[39m)\u001b[38;5;241m*\u001b[39m(l1\u001b[38;5;241m+\u001b[39ml2\u001b[38;5;241m+\u001b[39m\u001b[38;5;241m2\u001b[39m)\u001b[38;5;241m/\u001b[39m\u001b[38;5;241m2\u001b[39m)\n",
      "\u001b[0;31mAttributeError\u001b[0m: module 'alpaca.citations.citations' has no attribute 'register_inspire'"
     ]
    }
   ],
   "source": [
    "import pandas as pd\n",
    "from alpaca.constants import mK, mB, hbarc_GeVnm, mpi0\n",
    "from alpaca.common import kallen\n",
    "from alpaca.experimental_data.measurements_exp import babar_btoksnunu_lightmediator, belleII_bptoknunu_lightmediator\n",
    "from alpaca.uvmodels.model_library import QED_DFSZ, beta, u_DFSZ, d_DFSZ, Q_KSVZ\n",
    "from alpaca.statistics.chisquared import chi2_obs, combine_chi2\n",
    "from alpaca.statistics.functions import nsigmas\n",
    "import numpy as np\n",
    "from alpaca.decays.alp_decays.branching_ratios import total_decay_width\n",
    "import matplotlib.pyplot as plt\n",
    "from alpaca.statistics.chisquared import get_chi2, combine_chi2\n",
    "from alpaca.plotting.mpl import exclusionplot as mpl_plot\n",
    "from alpaca.plotting.bokeh import exclusionplot\n",
    "from alpaca import ALPcouplings\n",
    "plt.rcParams.update({'font.size': 12, 'text.usetex': True, 'font.family': 'serif', 'font.serif': ['Computer Modern Roman']})"
   ]
  },
  {
   "cell_type": "code",
   "execution_count": 4,
   "metadata": {},
   "outputs": [
    {
     "ename": "NameError",
     "evalue": "name 'np' is not defined",
     "output_type": "error",
     "traceback": [
      "\u001b[0;31m---------------------------------------------------------------------------\u001b[0m",
      "\u001b[0;31mNameError\u001b[0m                                 Traceback (most recent call last)",
      "Cell \u001b[0;32mIn[4], line 1\u001b[0m\n\u001b[0;32m----> 1\u001b[0m ma \u001b[38;5;241m=\u001b[39m np\u001b[38;5;241m.\u001b[39mlogspace(np\u001b[38;5;241m.\u001b[39mlog10(\u001b[38;5;241m0.103\u001b[39m), np\u001b[38;5;241m.\u001b[39mlog10(\u001b[38;5;241m5.0\u001b[39m), \u001b[38;5;241m50\u001b[39m)\n\u001b[1;32m      2\u001b[0m fa \u001b[38;5;241m=\u001b[39m \u001b[38;5;241m1e3\u001b[39m\n\u001b[1;32m      3\u001b[0m ct \u001b[38;5;241m=\u001b[39m np\u001b[38;5;241m.\u001b[39mlogspace(\u001b[38;5;241m-\u001b[39m\u001b[38;5;241m4\u001b[39m, \u001b[38;5;241m0\u001b[39m, \u001b[38;5;241m50\u001b[39m)\n",
      "\u001b[0;31mNameError\u001b[0m: name 'np' is not defined"
     ]
    }
   ],
   "source": [
    "ma = np.logspace(np.log10(0.103), np.log10(5.0), 50)\n",
    "fa = 1e3\n",
    "ct = np.logspace(-4, 0, 50)\n",
    "x_ma, y_coup = np.meshgrid(ma, ct)\n",
    "\n",
    "ct_flat = y_coup.flatten()\n",
    "\n",
    "couplings = [ALPcouplings({'cuR': np.diag([0, 0, ctop_val])},scale=4 * np.pi * fa,basis='derivative_above').match_run(5.1, 'kF_below') for ctop_val in ct_flat]\n"
   ]
  },
  {
   "cell_type": "code",
   "execution_count": null,
   "metadata": {},
   "outputs": [],
   "source": []
  },
  {
   "cell_type": "code",
   "execution_count": null,
   "metadata": {},
   "outputs": [],
   "source": []
  }
 ],
 "metadata": {
  "kernelspec": {
   "display_name": "base",
   "language": "python",
   "name": "python3"
  },
  "language_info": {
   "codemirror_mode": {
    "name": "ipython",
    "version": 3
   },
   "file_extension": ".py",
   "mimetype": "text/x-python",
   "name": "python",
   "nbconvert_exporter": "python",
   "pygments_lexer": "ipython3",
   "version": "3.12.8"
  }
 },
 "nbformat": 4,
 "nbformat_minor": 2
}
