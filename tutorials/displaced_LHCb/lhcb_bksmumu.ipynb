{
 "cells": [
  {
   "cell_type": "markdown",
   "metadata": {},
   "source": [
    "Note: This notebook uses the ROOT kernel instead of the usual Python kernel (See instrunctions [here](https://github.com/root-project/root/tree/master/bindings/jupyroot))"
   ]
  },
  {
   "cell_type": "code",
   "execution_count": 1,
   "metadata": {},
   "outputs": [],
   "source": [
    ".L getUL.C"
   ]
  },
  {
   "cell_type": "code",
   "execution_count": 3,
   "metadata": {},
   "outputs": [
    {
     "name": "stdout",
     "output_type": "stream",
     "text": [
      "(double) 6.5987057e-09\n"
     ]
    }
   ],
   "source": [
    "getUL(1347, 123, 1)"
   ]
  },
  {
   "cell_type": "code",
   "execution_count": 4,
   "metadata": {},
   "outputs": [],
   "source": [
    "ofstream MyFile(\"lhcb_bksmumu.txt\");"
   ]
  },
  {
   "cell_type": "code",
   "execution_count": 5,
   "metadata": {},
   "outputs": [],
   "source": [
    "for(int logtau=0; logtau<100; logtau++){\n",
    "    for(int ma=214;ma<4350;ma+=5){\n",
    "        if(ma < 4348){\n",
    "            MyFile << getUL(ma, pow(10.0, (logtau-25.0)/25.0), 1) << \"\\t\";\n",
    "        } else {\n",
    "            MyFile << getUL(ma, pow(10.0, (logtau-25.0)/25.0), 0) << \"\\n\";\n",
    "        }\n",
    "    }\n",
    "}\n",
    "\n",
    "MyFile.close();"
   ]
  },
  {
   "cell_type": "code",
   "execution_count": null,
   "metadata": {},
   "outputs": [],
   "source": []
  }
 ],
 "metadata": {
  "kernelspec": {
   "display_name": "ROOT C++",
   "language": "c++",
   "name": "root"
  },
  "language_info": {
   "codemirror_mode": "text/x-c++src",
   "file_extension": ".C",
   "mimetype": " text/x-c++src",
   "name": "c++"
  }
 },
 "nbformat": 4,
 "nbformat_minor": 2
}
