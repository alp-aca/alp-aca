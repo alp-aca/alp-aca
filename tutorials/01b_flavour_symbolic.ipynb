{
 "cells": [
  {
   "cell_type": "markdown",
   "metadata": {},
   "source": [
    "# 01: Flavour\n",
    "\n",
    "In this example, we will see how non-diagonal flavour couplings at the low scale arise from the Renormalization Group evolution of lepton-diagonal couplings"
   ]
  },
  {
   "cell_type": "code",
   "execution_count": 1,
   "metadata": {},
   "outputs": [],
   "source": [
    "from alpaca.rge.classes import ALPcouplings\n",
    "from alpaca.rge.symbolic import clean_expression\n",
    "import numpy as np\n",
    "import sympy as sp\n",
    "\n",
    "cuR = sp.Symbol('c_{u_R}')\n",
    "cW = sp.Symbol('c_W')\n",
    "Lambda = sp.Symbol('Lambda')\n",
    "mu_ew = sp.Symbol(r'\\mu_{ew}')\n",
    "mu = sp.Symbol(r'\\mu')"
   ]
  },
  {
   "cell_type": "markdown",
   "metadata": {},
   "source": [
    "## From quark couplings"
   ]
  },
  {
   "cell_type": "markdown",
   "metadata": {},
   "source": [
    "We define diagonal couplings $c_{u_R}$ at the scale $\\Lambda$, and evolve them down to the scale $\\mu_\\mathrm{ew}$, where we integrate out the heavy SM particles"
   ]
  },
  {
   "cell_type": "code",
   "execution_count": 2,
   "metadata": {},
   "outputs": [],
   "source": [
    "ac1 = ALPcouplings({'cuR': cuR}, scale=Lambda, basis='derivative_above', ew_scale=mu_ew)"
   ]
  },
  {
   "cell_type": "code",
   "execution_count": 3,
   "metadata": {},
   "outputs": [],
   "source": [
    "ac2 = ac1.match_run(scale_out=mu_ew, basis='RL_below', integrator='symbolic', beta='ytop')"
   ]
  },
  {
   "cell_type": "code",
   "execution_count": 9,
   "metadata": {},
   "outputs": [
    {
     "data": {
      "text/latex": [
       "$\\displaystyle - \\frac{V_{cb} V_{cs}^* \\alpha_{1}^{2} c_{u_R} \\log{\\left(\\frac{\\mu_{ew}}{\\Lambda} \\right)}}{12 \\pi^{2}} - \\frac{3 V_{cb} V_{cs}^* \\alpha_{s}^{2} c_{u_R} \\log{\\left(\\frac{\\mu_{ew}}{\\Lambda} \\right)}}{2 \\pi^{2}} - \\frac{3 V_{cb} V_{cs}^* \\beta_{qL} c_{u_R} y_{t}^{2} \\log{\\left(\\frac{\\mu_{ew}}{\\Lambda} \\right)}}{8 \\pi^{2}} - \\frac{V_{tb} V_{ts}^* \\alpha_{1}^{2} c_{u_R} \\log{\\left(\\frac{\\mu_{ew}}{\\Lambda} \\right)}}{12 \\pi^{2}} - \\frac{3 V_{tb} V_{ts}^* \\alpha_{s}^{2} c_{u_R} \\log{\\left(\\frac{\\mu_{ew}}{\\Lambda} \\right)}}{2 \\pi^{2}} - \\frac{3 V_{tb} V_{ts}^* \\beta_{qL} c_{u_R} y_{t}^{2} \\log{\\left(\\frac{\\mu_{ew}}{\\Lambda} \\right)}}{8 \\pi^{2}} + \\frac{3 V_{tb} V_{ts}^* c_{u_R} x_{t} y_{t}^{2}}{16 \\left(2 \\pi^{2} x_{t}^{2} - 4 \\pi^{2} x_{t} + 2 \\pi^{2}\\right)} - \\frac{3 V_{tb} V_{ts}^* c_{u_R} y_{t}^{2} \\log{\\left(x_{t} \\right)}}{16 \\left(2 \\pi^{2} x_{t}^{2} - 4 \\pi^{2} x_{t} + 2 \\pi^{2}\\right)} - \\frac{3 V_{tb} V_{ts}^* c_{u_R} y_{t}^{2}}{16 \\left(2 \\pi^{2} x_{t}^{2} - 4 \\pi^{2} x_{t} + 2 \\pi^{2}\\right)} - \\frac{V_{tb} V_{ts}^* c_{u_R} y_{t}^{2} \\log{\\left(\\frac{\\mu_{ew}}{\\Lambda} \\right)}}{16 \\pi^{2}} + \\frac{V_{tb} V_{ts}^* c_{u_R} y_{t}^{2} \\log{\\left(\\frac{\\mu_{ew}^{2}}{m_{t}^{2}} \\right)}}{32 \\pi^{2}} - \\frac{V_{tb} V_{ts}^* c_{u_R} y_{t}^{2}}{64 \\pi^{2}} - \\frac{V_{ub} V_{us}^* \\alpha_{1}^{2} c_{u_R} \\log{\\left(\\frac{\\mu_{ew}}{\\Lambda} \\right)}}{12 \\pi^{2}} - \\frac{3 V_{ub} V_{us}^* \\alpha_{s}^{2} c_{u_R} \\log{\\left(\\frac{\\mu_{ew}}{\\Lambda} \\right)}}{2 \\pi^{2}} - \\frac{3 V_{ub} V_{us}^* \\beta_{qL} c_{u_R} y_{t}^{2} \\log{\\left(\\frac{\\mu_{ew}}{\\Lambda} \\right)}}{8 \\pi^{2}}$"
      ],
      "text/plain": [
       "-V_{cb}*V_{cs}^**alpha_1**2*c_{u_R}*log(\\mu_{ew}/Lambda)/(12*pi**2) - 3*V_{cb}*V_{cs}^**alpha_s**2*c_{u_R}*log(\\mu_{ew}/Lambda)/(2*pi**2) - 3*V_{cb}*V_{cs}^**beta_qL*c_{u_R}*y_t**2*log(\\mu_{ew}/Lambda)/(8*pi**2) - V_{tb}*V_{ts}^**alpha_1**2*c_{u_R}*log(\\mu_{ew}/Lambda)/(12*pi**2) - 3*V_{tb}*V_{ts}^**alpha_s**2*c_{u_R}*log(\\mu_{ew}/Lambda)/(2*pi**2) - 3*V_{tb}*V_{ts}^**beta_qL*c_{u_R}*y_t**2*log(\\mu_{ew}/Lambda)/(8*pi**2) + 3*V_{tb}*V_{ts}^**c_{u_R}*x_t*y_t**2/(16*(2*pi**2*x_t**2 - 4*pi**2*x_t + 2*pi**2)) - 3*V_{tb}*V_{ts}^**c_{u_R}*y_t**2*log(x_t)/(16*(2*pi**2*x_t**2 - 4*pi**2*x_t + 2*pi**2)) - 3*V_{tb}*V_{ts}^**c_{u_R}*y_t**2/(16*(2*pi**2*x_t**2 - 4*pi**2*x_t + 2*pi**2)) - V_{tb}*V_{ts}^**c_{u_R}*y_t**2*log(\\mu_{ew}/Lambda)/(16*pi**2) + V_{tb}*V_{ts}^**c_{u_R}*y_t**2*log(\\mu_{ew}**2/m_t**2)/(32*pi**2) - V_{tb}*V_{ts}^**c_{u_R}*y_t**2/(64*pi**2) - V_{ub}*V_{us}^**alpha_1**2*c_{u_R}*log(\\mu_{ew}/Lambda)/(12*pi**2) - 3*V_{ub}*V_{us}^**alpha_s**2*c_{u_R}*log(\\mu_{ew}/Lambda)/(2*pi**2) - 3*V_{ub}*V_{us}^**beta_qL*c_{u_R}*y_t**2*log(\\mu_{ew}/Lambda)/(8*pi**2)"
      ]
     },
     "execution_count": 9,
     "metadata": {},
     "output_type": "execute_result"
    }
   ],
   "source": [
    "clean_expression(ac2['cdL'][1,2])"
   ]
  },
  {
   "cell_type": "markdown",
   "metadata": {},
   "source": [
    "This result hasn't implemented the uninarity of the CKM matrix, as we can see from the term proportional to $\\beta_{qL}$, which vanishes (at it should!)"
   ]
  },
  {
   "cell_type": "code",
   "execution_count": 11,
   "metadata": {},
   "outputs": [
    {
     "data": {
      "text/latex": [
       "$\\displaystyle - \\frac{V_{cb} V_{cs}^* \\alpha_{1}^{2} c_{u_R} \\log{\\left(\\frac{\\mu_{ew}}{\\Lambda} \\right)}}{12 \\pi^{2}} - \\frac{3 V_{cb} V_{cs}^* \\alpha_{s}^{2} c_{u_R} \\log{\\left(\\frac{\\mu_{ew}}{\\Lambda} \\right)}}{2 \\pi^{2}} - \\frac{V_{tb} V_{ts}^* \\alpha_{1}^{2} c_{u_R} \\log{\\left(\\frac{\\mu_{ew}}{\\Lambda} \\right)}}{12 \\pi^{2}} - \\frac{3 V_{tb} V_{ts}^* \\alpha_{s}^{2} c_{u_R} \\log{\\left(\\frac{\\mu_{ew}}{\\Lambda} \\right)}}{2 \\pi^{2}} + \\frac{3 V_{tb} V_{ts}^* c_{u_R} x_{t} y_{t}^{2}}{16 \\left(2 \\pi^{2} x_{t}^{2} - 4 \\pi^{2} x_{t} + 2 \\pi^{2}\\right)} - \\frac{3 V_{tb} V_{ts}^* c_{u_R} y_{t}^{2} \\log{\\left(x_{t} \\right)}}{16 \\left(2 \\pi^{2} x_{t}^{2} - 4 \\pi^{2} x_{t} + 2 \\pi^{2}\\right)} - \\frac{3 V_{tb} V_{ts}^* c_{u_R} y_{t}^{2}}{16 \\left(2 \\pi^{2} x_{t}^{2} - 4 \\pi^{2} x_{t} + 2 \\pi^{2}\\right)} - \\frac{V_{tb} V_{ts}^* c_{u_R} y_{t}^{2} \\log{\\left(\\frac{\\mu_{ew}}{\\Lambda} \\right)}}{16 \\pi^{2}} + \\frac{V_{tb} V_{ts}^* c_{u_R} y_{t}^{2} \\log{\\left(\\frac{\\mu_{ew}^{2}}{m_{t}^{2}} \\right)}}{32 \\pi^{2}} - \\frac{V_{tb} V_{ts}^* c_{u_R} y_{t}^{2}}{64 \\pi^{2}} - \\frac{V_{ub} V_{us}^* \\alpha_{1}^{2} c_{u_R} \\log{\\left(\\frac{\\mu_{ew}}{\\Lambda} \\right)}}{12 \\pi^{2}} - \\frac{3 V_{ub} V_{us}^* \\alpha_{s}^{2} c_{u_R} \\log{\\left(\\frac{\\mu_{ew}}{\\Lambda} \\right)}}{2 \\pi^{2}} + \\beta_{qL} \\left(- \\frac{3 V_{cb} V_{cs}^* c_{u_R} y_{t}^{2} \\log{\\left(\\frac{\\mu_{ew}}{\\Lambda} \\right)}}{8 \\pi^{2}} - \\frac{3 V_{tb} V_{ts}^* c_{u_R} y_{t}^{2} \\log{\\left(\\frac{\\mu_{ew}}{\\Lambda} \\right)}}{8 \\pi^{2}} - \\frac{3 V_{ub} V_{us}^* c_{u_R} y_{t}^{2} \\log{\\left(\\frac{\\mu_{ew}}{\\Lambda} \\right)}}{8 \\pi^{2}}\\right)$"
      ],
      "text/plain": [
       "-V_{cb}*V_{cs}^**alpha_1**2*c_{u_R}*log(\\mu_{ew}/Lambda)/(12*pi**2) - 3*V_{cb}*V_{cs}^**alpha_s**2*c_{u_R}*log(\\mu_{ew}/Lambda)/(2*pi**2) - V_{tb}*V_{ts}^**alpha_1**2*c_{u_R}*log(\\mu_{ew}/Lambda)/(12*pi**2) - 3*V_{tb}*V_{ts}^**alpha_s**2*c_{u_R}*log(\\mu_{ew}/Lambda)/(2*pi**2) + 3*V_{tb}*V_{ts}^**c_{u_R}*x_t*y_t**2/(16*(2*pi**2*x_t**2 - 4*pi**2*x_t + 2*pi**2)) - 3*V_{tb}*V_{ts}^**c_{u_R}*y_t**2*log(x_t)/(16*(2*pi**2*x_t**2 - 4*pi**2*x_t + 2*pi**2)) - 3*V_{tb}*V_{ts}^**c_{u_R}*y_t**2/(16*(2*pi**2*x_t**2 - 4*pi**2*x_t + 2*pi**2)) - V_{tb}*V_{ts}^**c_{u_R}*y_t**2*log(\\mu_{ew}/Lambda)/(16*pi**2) + V_{tb}*V_{ts}^**c_{u_R}*y_t**2*log(\\mu_{ew}**2/m_t**2)/(32*pi**2) - V_{tb}*V_{ts}^**c_{u_R}*y_t**2/(64*pi**2) - V_{ub}*V_{us}^**alpha_1**2*c_{u_R}*log(\\mu_{ew}/Lambda)/(12*pi**2) - 3*V_{ub}*V_{us}^**alpha_s**2*c_{u_R}*log(\\mu_{ew}/Lambda)/(2*pi**2) + beta_qL*(-3*V_{cb}*V_{cs}^**c_{u_R}*y_t**2*log(\\mu_{ew}/Lambda)/(8*pi**2) - 3*V_{tb}*V_{ts}^**c_{u_R}*y_t**2*log(\\mu_{ew}/Lambda)/(8*pi**2) - 3*V_{ub}*V_{us}^**c_{u_R}*y_t**2*log(\\mu_{ew}/Lambda)/(8*pi**2))"
      ]
     },
     "execution_count": 11,
     "metadata": {},
     "output_type": "execute_result"
    }
   ],
   "source": [
    "sp.collect(clean_expression(ac2['cdL'][1,2]), sp.Symbol('beta_qL'))"
   ]
  },
  {
   "cell_type": "markdown",
   "metadata": {},
   "source": [
    "The unitarity becomes evident in the Wolfenstein parametrization"
   ]
  },
  {
   "cell_type": "code",
   "execution_count": 12,
   "metadata": {},
   "outputs": [
    {
     "data": {
      "text/latex": [
       "$\\displaystyle \\frac{A c_{u_R} \\lambda^{2} \\pi^{2} y_{t}^{2} \\left(x_{t}^{2} - 2 x_{t} + 1\\right) \\left(4 \\log{\\left(\\frac{\\mu_{ew}}{\\Lambda} \\right)} - 2 \\log{\\left(\\frac{\\mu_{ew}^{2}}{m_{t}^{2}} \\right)} + 1\\right) + 6 A c_{u_R} \\lambda^{2} \\pi^{2} y_{t}^{2} \\left(- x_{t} + \\log{\\left(x_{t} \\right)} + 1\\right) + O\\left(\\lambda^{3}\\right)}{64 \\pi^{4} \\left(x_{t}^{2} - 2 x_{t} + 1\\right)}$"
      ],
      "text/plain": [
       "(A*c_{u_R}*lambda**2*pi**2*y_t**2*(x_t**2 - 2*x_t + 1)*(4*log(\\mu_{ew}/Lambda) - 2*log(\\mu_{ew}**2/m_t**2) + 1) + 6*A*c_{u_R}*lambda**2*pi**2*y_t**2*(-x_t + log(x_t) + 1) + O(lambda**3))/(64*pi**4*(x_t**2 - 2*x_t + 1))"
      ]
     },
     "execution_count": 12,
     "metadata": {},
     "output_type": "execute_result"
    }
   ],
   "source": [
    "clean_expression(ac2['cdL'][1,2], order_lam=2)"
   ]
  },
  {
   "cell_type": "code",
   "execution_count": 10,
   "metadata": {},
   "outputs": [
    {
     "data": {
      "text/latex": [
       "$\\displaystyle - \\frac{V_{cd}^* V_{cs} \\alpha_{1}^{2} c_{u_R} \\log{\\left(\\frac{\\mu_{ew}}{\\Lambda} \\right)}}{12 \\pi^{2}} - \\frac{3 V_{cd}^* V_{cs} \\alpha_{s}^{2} c_{u_R} \\log{\\left(\\frac{\\mu_{ew}}{\\Lambda} \\right)}}{2 \\pi^{2}} - \\frac{3 V_{cd}^* V_{cs} \\beta_{qL} c_{u_R} y_{t}^{2} \\log{\\left(\\frac{\\mu_{ew}}{\\Lambda} \\right)}}{8 \\pi^{2}} - \\frac{V_{td}^* V_{ts} \\alpha_{1}^{2} c_{u_R} \\log{\\left(\\frac{\\mu_{ew}}{\\Lambda} \\right)}}{12 \\pi^{2}} - \\frac{3 V_{td}^* V_{ts} \\alpha_{s}^{2} c_{u_R} \\log{\\left(\\frac{\\mu_{ew}}{\\Lambda} \\right)}}{2 \\pi^{2}} - \\frac{3 V_{td}^* V_{ts} \\beta_{qL} c_{u_R} y_{t}^{2} \\log{\\left(\\frac{\\mu_{ew}}{\\Lambda} \\right)}}{8 \\pi^{2}} + \\frac{3 V_{td}^* V_{ts} c_{u_R} x_{t} y_{t}^{2}}{16 \\left(2 \\pi^{2} x_{t}^{2} - 4 \\pi^{2} x_{t} + 2 \\pi^{2}\\right)} - \\frac{3 V_{td}^* V_{ts} c_{u_R} y_{t}^{2} \\log{\\left(x_{t} \\right)}}{16 \\left(2 \\pi^{2} x_{t}^{2} - 4 \\pi^{2} x_{t} + 2 \\pi^{2}\\right)} - \\frac{3 V_{td}^* V_{ts} c_{u_R} y_{t}^{2}}{16 \\left(2 \\pi^{2} x_{t}^{2} - 4 \\pi^{2} x_{t} + 2 \\pi^{2}\\right)} - \\frac{V_{td}^* V_{ts} c_{u_R} y_{t}^{2} \\log{\\left(\\frac{\\mu_{ew}}{\\Lambda} \\right)}}{16 \\pi^{2}} + \\frac{V_{td}^* V_{ts} c_{u_R} y_{t}^{2} \\log{\\left(\\frac{\\mu_{ew}^{2}}{m_{t}^{2}} \\right)}}{32 \\pi^{2}} - \\frac{V_{td}^* V_{ts} c_{u_R} y_{t}^{2}}{64 \\pi^{2}} - \\frac{V_{ud}^* V_{us} \\alpha_{1}^{2} c_{u_R} \\log{\\left(\\frac{\\mu_{ew}}{\\Lambda} \\right)}}{12 \\pi^{2}} - \\frac{3 V_{ud}^* V_{us} \\alpha_{s}^{2} c_{u_R} \\log{\\left(\\frac{\\mu_{ew}}{\\Lambda} \\right)}}{2 \\pi^{2}} - \\frac{3 V_{ud}^* V_{us} \\beta_{qL} c_{u_R} y_{t}^{2} \\log{\\left(\\frac{\\mu_{ew}}{\\Lambda} \\right)}}{8 \\pi^{2}}$"
      ],
      "text/plain": [
       "-V_{cd}^**V_{cs}*alpha_1**2*c_{u_R}*log(\\mu_{ew}/Lambda)/(12*pi**2) - 3*V_{cd}^**V_{cs}*alpha_s**2*c_{u_R}*log(\\mu_{ew}/Lambda)/(2*pi**2) - 3*V_{cd}^**V_{cs}*beta_qL*c_{u_R}*y_t**2*log(\\mu_{ew}/Lambda)/(8*pi**2) - V_{td}^**V_{ts}*alpha_1**2*c_{u_R}*log(\\mu_{ew}/Lambda)/(12*pi**2) - 3*V_{td}^**V_{ts}*alpha_s**2*c_{u_R}*log(\\mu_{ew}/Lambda)/(2*pi**2) - 3*V_{td}^**V_{ts}*beta_qL*c_{u_R}*y_t**2*log(\\mu_{ew}/Lambda)/(8*pi**2) + 3*V_{td}^**V_{ts}*c_{u_R}*x_t*y_t**2/(16*(2*pi**2*x_t**2 - 4*pi**2*x_t + 2*pi**2)) - 3*V_{td}^**V_{ts}*c_{u_R}*y_t**2*log(x_t)/(16*(2*pi**2*x_t**2 - 4*pi**2*x_t + 2*pi**2)) - 3*V_{td}^**V_{ts}*c_{u_R}*y_t**2/(16*(2*pi**2*x_t**2 - 4*pi**2*x_t + 2*pi**2)) - V_{td}^**V_{ts}*c_{u_R}*y_t**2*log(\\mu_{ew}/Lambda)/(16*pi**2) + V_{td}^**V_{ts}*c_{u_R}*y_t**2*log(\\mu_{ew}**2/m_t**2)/(32*pi**2) - V_{td}^**V_{ts}*c_{u_R}*y_t**2/(64*pi**2) - V_{ud}^**V_{us}*alpha_1**2*c_{u_R}*log(\\mu_{ew}/Lambda)/(12*pi**2) - 3*V_{ud}^**V_{us}*alpha_s**2*c_{u_R}*log(\\mu_{ew}/Lambda)/(2*pi**2) - 3*V_{ud}^**V_{us}*beta_qL*c_{u_R}*y_t**2*log(\\mu_{ew}/Lambda)/(8*pi**2)"
      ]
     },
     "execution_count": 10,
     "metadata": {},
     "output_type": "execute_result"
    }
   ],
   "source": [
    "clean_expression(ac2['cdL'][0,1])"
   ]
  },
  {
   "cell_type": "code",
   "execution_count": 6,
   "metadata": {},
   "outputs": [
    {
     "data": {
      "text/latex": [
       "$\\displaystyle \\frac{6 A^{2} c_{u_R} \\lambda^{5} \\pi^{2} y_{t}^{2} \\left(- i \\bar{\\eta} x_{t} + i \\bar{\\eta} \\log{\\left(x_{t} \\right)} + i \\bar{\\eta} + \\bar{\\rho} x_{t} - \\bar{\\rho} \\log{\\left(x_{t} \\right)} - \\bar{\\rho} - x_{t} + \\log{\\left(x_{t} \\right)} + 1\\right) + A^{2} c_{u_R} \\lambda^{5} \\pi^{2} y_{t}^{2} \\left(x_{t}^{2} - 2 x_{t} + 1\\right) \\left(4 i \\bar{\\eta} \\log{\\left(\\frac{\\mu_{ew}}{\\Lambda} \\right)} - 2 i \\bar{\\eta} \\log{\\left(\\frac{\\mu_{ew}^{2}}{m_{t}^{2}} \\right)} + i \\bar{\\eta} - 4 \\bar{\\rho} \\log{\\left(\\frac{\\mu_{ew}}{\\Lambda} \\right)} + 2 \\bar{\\rho} \\log{\\left(\\frac{\\mu_{ew}^{2}}{m_{t}^{2}} \\right)} - \\bar{\\rho} + 4 \\log{\\left(\\frac{\\mu_{ew}}{\\Lambda} \\right)} - 2 \\log{\\left(\\frac{\\mu_{ew}^{2}}{m_{t}^{2}} \\right)} + 1\\right) + O\\left(\\lambda^{6}\\right)}{64 \\pi^{4} \\left(x_{t}^{2} - 2 x_{t} + 1\\right)}$"
      ],
      "text/plain": [
       "(6*A**2*c_{u_R}*lambda**5*pi**2*y_t**2*(-I*\\bar{\\eta}*x_t + I*\\bar{\\eta}*log(x_t) + I*\\bar{\\eta} + \\bar{\\rho}*x_t - \\bar{\\rho}*log(x_t) - \\bar{\\rho} - x_t + log(x_t) + 1) + A**2*c_{u_R}*lambda**5*pi**2*y_t**2*(x_t**2 - 2*x_t + 1)*(4*I*\\bar{\\eta}*log(\\mu_{ew}/Lambda) - 2*I*\\bar{\\eta}*log(\\mu_{ew}**2/m_t**2) + I*\\bar{\\eta} - 4*\\bar{\\rho}*log(\\mu_{ew}/Lambda) + 2*\\bar{\\rho}*log(\\mu_{ew}**2/m_t**2) - \\bar{\\rho} + 4*log(\\mu_{ew}/Lambda) - 2*log(\\mu_{ew}**2/m_t**2) + 1) + O(lambda**6))/(64*pi**4*(x_t**2 - 2*x_t + 1))"
      ]
     },
     "execution_count": 6,
     "metadata": {},
     "output_type": "execute_result"
    }
   ],
   "source": [
    "clean_expression(ac2['cdL'][0,1], order_lam=5)"
   ]
  },
  {
   "cell_type": "code",
   "execution_count": 13,
   "metadata": {},
   "outputs": [
    {
     "data": {
      "text/latex": [
       "$\\displaystyle - \\frac{V_{cb} V_{cd}^* \\alpha_{1}^{2} c_{u_R} \\log{\\left(\\frac{\\mu_{ew}}{\\Lambda} \\right)}}{12 \\pi^{2}} - \\frac{3 V_{cb} V_{cd}^* \\alpha_{s}^{2} c_{u_R} \\log{\\left(\\frac{\\mu_{ew}}{\\Lambda} \\right)}}{2 \\pi^{2}} - \\frac{3 V_{cb} V_{cd}^* \\beta_{qL} c_{u_R} y_{t}^{2} \\log{\\left(\\frac{\\mu_{ew}}{\\Lambda} \\right)}}{8 \\pi^{2}} - \\frac{V_{tb} V_{td}^* \\alpha_{1}^{2} c_{u_R} \\log{\\left(\\frac{\\mu_{ew}}{\\Lambda} \\right)}}{12 \\pi^{2}} - \\frac{3 V_{tb} V_{td}^* \\alpha_{s}^{2} c_{u_R} \\log{\\left(\\frac{\\mu_{ew}}{\\Lambda} \\right)}}{2 \\pi^{2}} - \\frac{3 V_{tb} V_{td}^* \\beta_{qL} c_{u_R} y_{t}^{2} \\log{\\left(\\frac{\\mu_{ew}}{\\Lambda} \\right)}}{8 \\pi^{2}} + \\frac{3 V_{tb} V_{td}^* c_{u_R} x_{t} y_{t}^{2}}{16 \\left(2 \\pi^{2} x_{t}^{2} - 4 \\pi^{2} x_{t} + 2 \\pi^{2}\\right)} - \\frac{3 V_{tb} V_{td}^* c_{u_R} y_{t}^{2} \\log{\\left(x_{t} \\right)}}{16 \\left(2 \\pi^{2} x_{t}^{2} - 4 \\pi^{2} x_{t} + 2 \\pi^{2}\\right)} - \\frac{3 V_{tb} V_{td}^* c_{u_R} y_{t}^{2}}{16 \\left(2 \\pi^{2} x_{t}^{2} - 4 \\pi^{2} x_{t} + 2 \\pi^{2}\\right)} - \\frac{V_{tb} V_{td}^* c_{u_R} y_{t}^{2} \\log{\\left(\\frac{\\mu_{ew}}{\\Lambda} \\right)}}{16 \\pi^{2}} + \\frac{V_{tb} V_{td}^* c_{u_R} y_{t}^{2} \\log{\\left(\\frac{\\mu_{ew}^{2}}{m_{t}^{2}} \\right)}}{32 \\pi^{2}} - \\frac{V_{tb} V_{td}^* c_{u_R} y_{t}^{2}}{64 \\pi^{2}} - \\frac{V_{ub} V_{ud}^* \\alpha_{1}^{2} c_{u_R} \\log{\\left(\\frac{\\mu_{ew}}{\\Lambda} \\right)}}{12 \\pi^{2}} - \\frac{3 V_{ub} V_{ud}^* \\alpha_{s}^{2} c_{u_R} \\log{\\left(\\frac{\\mu_{ew}}{\\Lambda} \\right)}}{2 \\pi^{2}} - \\frac{3 V_{ub} V_{ud}^* \\beta_{qL} c_{u_R} y_{t}^{2} \\log{\\left(\\frac{\\mu_{ew}}{\\Lambda} \\right)}}{8 \\pi^{2}}$"
      ],
      "text/plain": [
       "-V_{cb}*V_{cd}^**alpha_1**2*c_{u_R}*log(\\mu_{ew}/Lambda)/(12*pi**2) - 3*V_{cb}*V_{cd}^**alpha_s**2*c_{u_R}*log(\\mu_{ew}/Lambda)/(2*pi**2) - 3*V_{cb}*V_{cd}^**beta_qL*c_{u_R}*y_t**2*log(\\mu_{ew}/Lambda)/(8*pi**2) - V_{tb}*V_{td}^**alpha_1**2*c_{u_R}*log(\\mu_{ew}/Lambda)/(12*pi**2) - 3*V_{tb}*V_{td}^**alpha_s**2*c_{u_R}*log(\\mu_{ew}/Lambda)/(2*pi**2) - 3*V_{tb}*V_{td}^**beta_qL*c_{u_R}*y_t**2*log(\\mu_{ew}/Lambda)/(8*pi**2) + 3*V_{tb}*V_{td}^**c_{u_R}*x_t*y_t**2/(16*(2*pi**2*x_t**2 - 4*pi**2*x_t + 2*pi**2)) - 3*V_{tb}*V_{td}^**c_{u_R}*y_t**2*log(x_t)/(16*(2*pi**2*x_t**2 - 4*pi**2*x_t + 2*pi**2)) - 3*V_{tb}*V_{td}^**c_{u_R}*y_t**2/(16*(2*pi**2*x_t**2 - 4*pi**2*x_t + 2*pi**2)) - V_{tb}*V_{td}^**c_{u_R}*y_t**2*log(\\mu_{ew}/Lambda)/(16*pi**2) + V_{tb}*V_{td}^**c_{u_R}*y_t**2*log(\\mu_{ew}**2/m_t**2)/(32*pi**2) - V_{tb}*V_{td}^**c_{u_R}*y_t**2/(64*pi**2) - V_{ub}*V_{ud}^**alpha_1**2*c_{u_R}*log(\\mu_{ew}/Lambda)/(12*pi**2) - 3*V_{ub}*V_{ud}^**alpha_s**2*c_{u_R}*log(\\mu_{ew}/Lambda)/(2*pi**2) - 3*V_{ub}*V_{ud}^**beta_qL*c_{u_R}*y_t**2*log(\\mu_{ew}/Lambda)/(8*pi**2)"
      ]
     },
     "execution_count": 13,
     "metadata": {},
     "output_type": "execute_result"
    }
   ],
   "source": [
    "clean_expression(ac2['cdL'][0,2])"
   ]
  },
  {
   "cell_type": "code",
   "execution_count": 18,
   "metadata": {},
   "outputs": [
    {
     "data": {
      "text/latex": [
       "$\\displaystyle \\frac{6 A c_{u_R} \\lambda^{3} \\pi^{2} y_{t}^{2} \\left(i \\bar{\\eta} x_{t} - i \\bar{\\eta} \\log{\\left(x_{t} \\right)} - i \\bar{\\eta} - \\bar{\\rho} x_{t} + \\bar{\\rho} \\log{\\left(x_{t} \\right)} + \\bar{\\rho} + x_{t} - \\log{\\left(x_{t} \\right)} - 1\\right) + A c_{u_R} \\lambda^{3} \\pi^{2} y_{t}^{2} \\left(x_{t}^{2} - 2 x_{t} + 1\\right) \\left(- 4 i \\bar{\\eta} \\log{\\left(\\frac{\\mu_{ew}}{\\Lambda} \\right)} + 2 i \\bar{\\eta} \\log{\\left(\\frac{\\mu_{ew}^{2}}{m_{t}^{2}} \\right)} - i \\bar{\\eta} + 4 \\bar{\\rho} \\log{\\left(\\frac{\\mu_{ew}}{\\Lambda} \\right)} - 2 \\bar{\\rho} \\log{\\left(\\frac{\\mu_{ew}^{2}}{m_{t}^{2}} \\right)} + \\bar{\\rho} - 4 \\log{\\left(\\frac{\\mu_{ew}}{\\Lambda} \\right)} + 2 \\log{\\left(\\frac{\\mu_{ew}^{2}}{m_{t}^{2}} \\right)} - 1\\right) + O\\left(\\lambda^{4}\\right)}{64 \\pi^{4} \\left(x_{t}^{2} - 2 x_{t} + 1\\right)}$"
      ],
      "text/plain": [
       "(6*A*c_{u_R}*lambda**3*pi**2*y_t**2*(I*\\bar{\\eta}*x_t - I*\\bar{\\eta}*log(x_t) - I*\\bar{\\eta} - \\bar{\\rho}*x_t + \\bar{\\rho}*log(x_t) + \\bar{\\rho} + x_t - log(x_t) - 1) + A*c_{u_R}*lambda**3*pi**2*y_t**2*(x_t**2 - 2*x_t + 1)*(-4*I*\\bar{\\eta}*log(\\mu_{ew}/Lambda) + 2*I*\\bar{\\eta}*log(\\mu_{ew}**2/m_t**2) - I*\\bar{\\eta} + 4*\\bar{\\rho}*log(\\mu_{ew}/Lambda) - 2*\\bar{\\rho}*log(\\mu_{ew}**2/m_t**2) + \\bar{\\rho} - 4*log(\\mu_{ew}/Lambda) + 2*log(\\mu_{ew}**2/m_t**2) - 1) + O(lambda**4))/(64*pi**4*(x_t**2 - 2*x_t + 1))"
      ]
     },
     "execution_count": 18,
     "metadata": {},
     "output_type": "execute_result"
    }
   ],
   "source": [
    "clean_expression(ac2['cdL'][0,2], order_lam=3)"
   ]
  },
  {
   "cell_type": "markdown",
   "metadata": {},
   "source": [
    "## From $W$ couplings"
   ]
  },
  {
   "cell_type": "code",
   "execution_count": 14,
   "metadata": {},
   "outputs": [],
   "source": [
    "ac3 = ALPcouplings({'cW': cW}, scale=Lambda, basis='derivative_above', ew_scale=mu_ew)"
   ]
  },
  {
   "cell_type": "code",
   "execution_count": 15,
   "metadata": {},
   "outputs": [],
   "source": [
    "ac4 = ac3.match_run(scale_out=mu_ew, basis='RL_below', integrator='symbolic', beta='ytop')"
   ]
  },
  {
   "cell_type": "code",
   "execution_count": 21,
   "metadata": {},
   "outputs": [
    {
     "data": {
      "text/latex": [
       "$\\displaystyle \\frac{3 A \\alpha_{em} c_{W} \\lambda^{2} y_{t}^{2} - 3 A \\alpha_{em} c_{W} \\lambda^{2} x_{t} y_{t}^{2} + 3 A \\alpha_{em} c_{W} \\lambda^{2} x_{t} y_{t}^{2} \\log{\\left(x_{t} \\right)} + O\\left(\\lambda^{3}\\right)}{32 \\pi^{3} s^{2}_{w} \\left(x_{t}^{2} - 2 x_{t} + 1\\right)}$"
      ],
      "text/plain": [
       "(3*A*\\alpha_{em}*c_W*lambda**2*y_t**2 - 3*A*\\alpha_{em}*c_W*lambda**2*x_t*y_t**2 + 3*A*\\alpha_{em}*c_W*lambda**2*x_t*y_t**2*log(x_t) + O(lambda**3))/(32*pi**3*s^2_w*(x_t**2 - 2*x_t + 1))"
      ]
     },
     "execution_count": 21,
     "metadata": {},
     "output_type": "execute_result"
    }
   ],
   "source": [
    "clean_expression(ac4['cdL'][1,2], order_lam=2)"
   ]
  },
  {
   "cell_type": "code",
   "execution_count": 17,
   "metadata": {},
   "outputs": [
    {
     "data": {
      "text/latex": [
       "$\\displaystyle \\frac{3 A^{2} \\alpha_{em} c_{W} \\lambda^{5} y_{t}^{2} - 3 A^{2} \\alpha_{em} c_{W} \\lambda^{5} x_{t} y_{t}^{2} + 3 A^{2} \\alpha_{em} c_{W} \\lambda^{5} x_{t} y_{t}^{2} \\log{\\left(x_{t} \\right)} - 3 A^{2} \\alpha_{em} \\bar{\\rho} c_{W} \\lambda^{5} y_{t}^{2} + 3 A^{2} \\alpha_{em} \\bar{\\rho} c_{W} \\lambda^{5} x_{t} y_{t}^{2} - 3 A^{2} \\alpha_{em} \\bar{\\rho} c_{W} \\lambda^{5} x_{t} y_{t}^{2} \\log{\\left(x_{t} \\right)} + 3 i A^{2} \\alpha_{em} \\bar{\\eta} c_{W} \\lambda^{5} y_{t}^{2} - 3 i A^{2} \\alpha_{em} \\bar{\\eta} c_{W} \\lambda^{5} x_{t} y_{t}^{2} + 3 i A^{2} \\alpha_{em} \\bar{\\eta} c_{W} \\lambda^{5} x_{t} y_{t}^{2} \\log{\\left(x_{t} \\right)} + O\\left(\\lambda^{6}\\right)}{32 \\pi^{3} s^{2}_{w} \\left(x_{t}^{2} - 2 x_{t} + 1\\right)}$"
      ],
      "text/plain": [
       "(3*A**2*\\alpha_{em}*c_W*lambda**5*y_t**2 - 3*A**2*\\alpha_{em}*c_W*lambda**5*x_t*y_t**2 + 3*A**2*\\alpha_{em}*c_W*lambda**5*x_t*y_t**2*log(x_t) - 3*A**2*\\alpha_{em}*\\bar{\\rho}*c_W*lambda**5*y_t**2 + 3*A**2*\\alpha_{em}*\\bar{\\rho}*c_W*lambda**5*x_t*y_t**2 - 3*A**2*\\alpha_{em}*\\bar{\\rho}*c_W*lambda**5*x_t*y_t**2*log(x_t) + 3*I*A**2*\\alpha_{em}*\\bar{\\eta}*c_W*lambda**5*y_t**2 - 3*I*A**2*\\alpha_{em}*\\bar{\\eta}*c_W*lambda**5*x_t*y_t**2 + 3*I*A**2*\\alpha_{em}*\\bar{\\eta}*c_W*lambda**5*x_t*y_t**2*log(x_t) + O(lambda**6))/(32*pi**3*s^2_w*(x_t**2 - 2*x_t + 1))"
      ]
     },
     "execution_count": 17,
     "metadata": {},
     "output_type": "execute_result"
    }
   ],
   "source": [
    "clean_expression(ac4['cdL'][0,1], order_lam=5)"
   ]
  },
  {
   "cell_type": "code",
   "execution_count": 19,
   "metadata": {},
   "outputs": [
    {
     "data": {
      "text/latex": [
       "$\\displaystyle \\frac{- 3 A \\alpha_{em} c_{W} \\lambda^{3} y_{t}^{2} + 3 A \\alpha_{em} c_{W} \\lambda^{3} x_{t} y_{t}^{2} - 3 A \\alpha_{em} c_{W} \\lambda^{3} x_{t} y_{t}^{2} \\log{\\left(x_{t} \\right)} + 3 A \\alpha_{em} \\bar{\\rho} c_{W} \\lambda^{3} y_{t}^{2} - 3 A \\alpha_{em} \\bar{\\rho} c_{W} \\lambda^{3} x_{t} y_{t}^{2} + 3 A \\alpha_{em} \\bar{\\rho} c_{W} \\lambda^{3} x_{t} y_{t}^{2} \\log{\\left(x_{t} \\right)} - 3 i A \\alpha_{em} \\bar{\\eta} c_{W} \\lambda^{3} y_{t}^{2} + 3 i A \\alpha_{em} \\bar{\\eta} c_{W} \\lambda^{3} x_{t} y_{t}^{2} - 3 i A \\alpha_{em} \\bar{\\eta} c_{W} \\lambda^{3} x_{t} y_{t}^{2} \\log{\\left(x_{t} \\right)} + O\\left(\\lambda^{4}\\right)}{32 \\pi^{3} s^{2}_{w} \\left(x_{t}^{2} - 2 x_{t} + 1\\right)}$"
      ],
      "text/plain": [
       "(-3*A*\\alpha_{em}*c_W*lambda**3*y_t**2 + 3*A*\\alpha_{em}*c_W*lambda**3*x_t*y_t**2 - 3*A*\\alpha_{em}*c_W*lambda**3*x_t*y_t**2*log(x_t) + 3*A*\\alpha_{em}*\\bar{\\rho}*c_W*lambda**3*y_t**2 - 3*A*\\alpha_{em}*\\bar{\\rho}*c_W*lambda**3*x_t*y_t**2 + 3*A*\\alpha_{em}*\\bar{\\rho}*c_W*lambda**3*x_t*y_t**2*log(x_t) - 3*I*A*\\alpha_{em}*\\bar{\\eta}*c_W*lambda**3*y_t**2 + 3*I*A*\\alpha_{em}*\\bar{\\eta}*c_W*lambda**3*x_t*y_t**2 - 3*I*A*\\alpha_{em}*\\bar{\\eta}*c_W*lambda**3*x_t*y_t**2*log(x_t) + O(lambda**4))/(32*pi**3*s^2_w*(x_t**2 - 2*x_t + 1))"
      ]
     },
     "execution_count": 19,
     "metadata": {},
     "output_type": "execute_result"
    }
   ],
   "source": [
    "clean_expression(ac4['cdL'][0,2], order_lam=3)"
   ]
  }
 ],
 "metadata": {
  "kernelspec": {
   "display_name": ".venv",
   "language": "python",
   "name": "python3"
  },
  "language_info": {
   "codemirror_mode": {
    "name": "ipython",
    "version": 3
   },
   "file_extension": ".py",
   "mimetype": "text/x-python",
   "name": "python",
   "nbconvert_exporter": "python",
   "pygments_lexer": "ipython3",
   "version": "3.13.1"
  }
 },
 "nbformat": 4,
 "nbformat_minor": 2
}
