{
 "cells": [
  {
   "cell_type": "code",
   "execution_count": 1,
   "metadata": {},
   "outputs": [],
   "source": [
    "from alpaca.statistics.chisquared import get_chi2, combine_chi2\n",
    "from alpaca.models.model_library import QED_DFSZ, beta\n",
    "from alpaca.plotting.bokeh import exclusionplot\n",
    "import warnings\n",
    "warnings.filterwarnings(\"ignore\")\n",
    "import numpy as np\n",
    "from bokeh.io import save"
   ]
  },
  {
   "cell_type": "code",
   "execution_count": 2,
   "metadata": {},
   "outputs": [],
   "source": [
    "ma = np.hstack([np.logspace(np.log10(0.103), 0, 50), np.linspace(1.01, 10, 60)])\n",
    "fa = np.logspace(2.2, 7, 50)\n",
    "couplings = [QED_DFSZ.get_couplings({beta: np.pi/4}, f).match_run(10.1, 'VA_below', 'leadinglog') for f in fa]\n",
    "x_ma, y_couplings = np.meshgrid(ma, couplings)\n",
    "x_ma, y_fa = np.meshgrid(ma, fa)"
   ]
  },
  {
   "cell_type": "code",
   "execution_count": 3,
   "metadata": {},
   "outputs": [],
   "source": [
    "transitions = [\n",
    "    'B+ -> K+ a',\n",
    "    'B0 -> K*0 a',\n",
    "    'B+ -> K+ e e',\n",
    "    'B0 -> K*0 e e',\n",
    "    'B+ -> K+ mu mu',\n",
    "    'B0 -> K*0 mu mu',\n",
    "    'B+ -> K+ gamma gamma',\n",
    "    'B+ -> K+ tau tau',\n",
    "    'B0 -> K*0 tau tau',\n",
    "    'Y(3S) -> gamma tau tau',\n",
    "]"
   ]
  },
  {
   "cell_type": "code",
   "execution_count": 4,
   "metadata": {},
   "outputs": [],
   "source": [
    "chi2 = get_chi2(transitions, x_ma, y_couplings, y_fa, br_dark = 0.0, integrator='leadinglog', min_probability=1e-5)"
   ]
  },
  {
   "cell_type": "code",
   "execution_count": 6,
   "metadata": {},
   "outputs": [
    {
     "data": {
      "text/plain": [
       "'/home/geonosis/Documents/alpaca/alp-aca/tutorials/B_to_K_a.html'"
      ]
     },
     "execution_count": 6,
     "metadata": {},
     "output_type": "execute_result"
    }
   ],
   "source": [
    "fig = exclusionplot(ma, 1/fa, chi2, r'\\(m_a\\)', r'$$1/f_a$$ [GeV$$^{-1}$$]', r'$$B \\to K a$$, QED-DFSZ with $$\\tan\\beta = 1$$')\n",
    "save(fig, 'B_to_K_a.html', 'cdn', title='B to K a')"
   ]
  },
  {
   "cell_type": "code",
   "execution_count": null,
   "metadata": {},
   "outputs": [],
   "source": []
  }
 ],
 "metadata": {
  "kernelspec": {
   "display_name": "alpaca-YZhijjtZ-py3.12",
   "language": "python",
   "name": "python3"
  },
  "language_info": {
   "codemirror_mode": {
    "name": "ipython",
    "version": 3
   },
   "file_extension": ".py",
   "mimetype": "text/x-python",
   "name": "python",
   "nbconvert_exporter": "python",
   "pygments_lexer": "ipython3",
   "version": "3.12.7"
  }
 },
 "nbformat": 4,
 "nbformat_minor": 2
}
