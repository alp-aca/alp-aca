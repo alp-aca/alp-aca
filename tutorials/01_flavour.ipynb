{
 "cells": [
  {
   "cell_type": "markdown",
   "metadata": {},
   "source": [
    "# 01: Flavour\n",
    "\n",
    "In this example, we will see how non-diagonal flavour couplings at the low scale arise from the Renormalization Group evolution of lepton-diagonal couplings"
   ]
  },
  {
   "cell_type": "code",
   "execution_count": 9,
   "metadata": {},
   "outputs": [],
   "source": [
    "from alpaca.rge.classes import ALPcouplings\n",
    "import numpy as np"
   ]
  },
  {
   "cell_type": "markdown",
   "metadata": {},
   "source": [
    "## From quark couplings"
   ]
  },
  {
   "cell_type": "code",
   "execution_count": 3,
   "metadata": {},
   "outputs": [],
   "source": [
    "ac1 = ALPcouplings({'cuR': 1.0}, scale=1000, basis='derivative_above')"
   ]
  },
  {
   "cell_type": "code",
   "execution_count": 5,
   "metadata": {},
   "outputs": [],
   "source": [
    "ac2 = ac1.match_run(scale_out=5, basis='RL_below', integrator='leadinglog')"
   ]
  },
  {
   "cell_type": "code",
   "execution_count": 10,
   "metadata": {},
   "outputs": [
    {
     "name": "stdout",
     "output_type": "stream",
     "text": [
      "[[ 1.68331826e-02 -2.82849209e-06  6.79746226e-05]\n",
      " [-2.82849209e-06  1.68464893e-02 -3.33792006e-04]\n",
      " [ 6.79746226e-05 -3.33792006e-04  2.48863446e-02]]\n"
     ]
    }
   ],
   "source": [
    "print(np.real(ac2['cdL']))"
   ]
  },
  {
   "cell_type": "code",
   "execution_count": 11,
   "metadata": {},
   "outputs": [
    {
     "name": "stdout",
     "output_type": "stream",
     "text": [
      "[[-5.29395592e-23 -1.17858945e-06  2.71641287e-05]\n",
      " [ 1.17858945e-06  5.29395592e-23  6.25227006e-06]\n",
      " [-2.71641287e-05 -6.25227006e-06  0.00000000e+00]]\n"
     ]
    }
   ],
   "source": [
    "print(np.imag(ac2['cdL']))"
   ]
  },
  {
   "cell_type": "markdown",
   "metadata": {},
   "source": [
    "## From $W$ couplings"
   ]
  },
  {
   "cell_type": "code",
   "execution_count": 12,
   "metadata": {},
   "outputs": [],
   "source": [
    "ac3 = ALPcouplings({'cW': 1.0}, scale=1000, basis='derivative_above')"
   ]
  },
  {
   "cell_type": "code",
   "execution_count": 13,
   "metadata": {},
   "outputs": [],
   "source": [
    "ac4 = ac3.match_run(scale_out=5, basis='RL_below', integrator='leadinglog')"
   ]
  },
  {
   "cell_type": "code",
   "execution_count": 14,
   "metadata": {},
   "outputs": [
    {
     "name": "stdout",
     "output_type": "stream",
     "text": [
      "[[ 4.84466754e-05  8.12973576e-09 -1.97632437e-07]\n",
      " [ 8.12973576e-09  4.84083734e-05  9.70479401e-07]\n",
      " [-1.97632437e-07  9.70479401e-07  2.50330157e-05]]\n"
     ]
    }
   ],
   "source": [
    "print(np.real(ac4['cdL']))"
   ]
  },
  {
   "cell_type": "code",
   "execution_count": 15,
   "metadata": {},
   "outputs": [
    {
     "name": "stdout",
     "output_type": "stream",
     "text": [
      "[[ 1.03396270e-24  3.42667556e-09 -7.89765659e-08]\n",
      " [-3.42667556e-09 -4.20183357e-26 -1.81777528e-08]\n",
      " [ 7.89765659e-08  1.81777528e-08 -1.30701958e-29]]\n"
     ]
    }
   ],
   "source": [
    "print(np.imag(ac4['cdL']))"
   ]
  },
  {
   "cell_type": "code",
   "execution_count": null,
   "metadata": {},
   "outputs": [],
   "source": []
  }
 ],
 "metadata": {
  "kernelspec": {
   "display_name": "alp-aca-YZhijjtZ-py3.12",
   "language": "python",
   "name": "python3"
  },
  "language_info": {
   "codemirror_mode": {
    "name": "ipython",
    "version": 3
   },
   "file_extension": ".py",
   "mimetype": "text/x-python",
   "name": "python",
   "nbconvert_exporter": "python",
   "pygments_lexer": "ipython3",
   "version": "3.12.6"
  }
 },
 "nbformat": 4,
 "nbformat_minor": 2
}
